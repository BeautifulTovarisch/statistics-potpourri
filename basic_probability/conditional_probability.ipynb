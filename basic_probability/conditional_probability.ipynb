{
  "nbformat": 4,
  "nbformat_minor": 0,
  "metadata": {
    "colab": {
      "provenance": [],
      "collapsed_sections": [
        "pfZsANKzS3_L"
      ],
      "toc_visible": true,
      "authorship_tag": "ABX9TyOfmKMPYMrJeBw9dAp1Cjhi",
      "include_colab_link": true
    },
    "kernelspec": {
      "name": "julia",
      "display_name": "Julia"
    },
    "language_info": {
      "name": "julia"
    }
  },
  "cells": [
    {
      "cell_type": "markdown",
      "metadata": {
        "id": "view-in-github",
        "colab_type": "text"
      },
      "source": [
        "<a href=\"https://colab.research.google.com/github/BeautifulTovarisch/statistics-potpourri/blob/main/basic_probability/conditional_probability.ipynb\" target=\"_parent\"><img src=\"https://colab.research.google.com/assets/colab-badge.svg\" alt=\"Open In Colab\"/></a>"
      ]
    },
    {
      "cell_type": "markdown",
      "source": [
        "# Indepdendence and Conditional Probability\n",
        "\n",
        "Two events are said to be **independent** when their outcomes do not influence one another's (e.g a coin toss).\n",
        "\n",
        "> NOTE: This is _not_ the same as **disjoint**!\n",
        "\n",
        "The probability of two idependent events is give by straightforward multiplication. Assume $A$ and $B$ are independent events in sample space $\\Omega$. Then\n",
        "\n",
        "\\begin{equation}\n",
        "P(A \\cap B) = P(A)P(B)\n",
        "\\end{equation}\n",
        "\n",
        "## Conditional Probability\n",
        "\n",
        "When an event $B$ reveals some information about the probability of some other event $A$, we compute the probability of $A$ given the _condition_ of $B$ having occurred:\n",
        "\n",
        "\\begin{equation}\n",
        "P(A \\mid B) = \\frac {P(A \\cap B)} {P(B)}\n",
        "\\end{equation}\n",
        "\n",
        "\n",
        "> The Probability of $A$ given $B$\n",
        "\n",
        "Immediately from the previous formula we see that if $A$ and $B$ are independent, $P(A \\mid B) = P(A)$.\n",
        "\n",
        "### Example\n",
        "\n",
        "Here is a canonical example with fair dice. Let $A$ be the event that the sum of dice rolls is even and let $B$ be the event that at least one of the dice lands on a two.\n",
        "\n",
        "\\begin{equation}\n",
        "  P(2 \\mid \\text{even})\n",
        "    = \\frac {P(2 \\cap \\text{even})} {P(\\text{even})}\n",
        "    = \\frac {5/36} {18/36}\n",
        "    = \\frac 5 {18}\n",
        "\\end{equation}\n",
        "\n",
        "## Law of Total Probability\n",
        "\n",
        "Rearranging the formula for conditional probability, we arrive at:\n",
        "\n",
        "\\begin{equation}\n",
        "  P(A \\cap B) = P(B)P(A \\mid B)\n",
        "\\end{equation}\n",
        "\n",
        "which can be used to compute of the outcomes formed from a disjoint union of an event $A$ and a _partition_ $\\{B_1, B_2, \\dots, B_n\\}$ over $\\Omega$:\n",
        "\n",
        "\\begin{equation}\n",
        "  P(A)\n",
        "    = \\sum_{k=0}^{\\infty} P(A \\cap B_k)\n",
        "    = \\sum_{k=0}^{\\infty} P(A \\mid B_k)P(B_k)\n",
        "\\end{equation}\n",
        "\n",
        "which we call the **Law of Total Probability**."
      ],
      "metadata": {
        "id": "dKTr_dZ1AiOB"
      }
    },
    {
      "cell_type": "code",
      "source": [
        "import Pkg\n",
        "\n",
        "Pkg.add(\"SpecialFunctions\")"
      ],
      "metadata": {
        "id": "KR9PV_NfX7cK"
      },
      "execution_count": null,
      "outputs": []
    },
    {
      "cell_type": "markdown",
      "source": [
        "## Manufacturing Defects\n",
        "\n",
        "As an example of the law of total probability, consider the probability of a defect in a semi-conductor manufacturing process. In this example, let $A$ be the event of a failure and assume each $B_k$ forms a partition over $\\Omega$ where $k$ is the number of dust particles present in the room.\n",
        "\n",
        "We assume a model for failures given the number of particles present:\n",
        "\n",
        "\\begin{array}{cc}\n",
        "  P(A \\mid B_k) = 1 - \\frac 1 {k + 1}\n",
        "  & P(B_k) = \\frac 6 {\\pi^2 (k + 1)^2}\n",
        "\\end{array}\n",
        "\n",
        "(somehow) this works out to $\\sum_{k=0}^\\infty k^{-2} = \\frac {\\pi^2} 6$, which (somehow) implies that $\\sum_{k=0}^\\infty P(B_k) = 1$.\n",
        "\n",
        "Because we have each $B_k$ forming a partition, we can use the formula for total probability as follows to compute the probability of a manufacturing failure:\n",
        "\n",
        "\\begin{align}\n",
        "  P(A) &= \\sum_{k=0}^\\infty P(A \\mid B_k) P(B_k) \\\\\n",
        "  &= \\sum_{k=0}^\\infty \\left(1 - \\frac 1 {k + 1}\\right) \\frac 6 {\\pi^2 (k+1)^2}\n",
        "\\end{align}\n",
        "\n",
        "which (somehow) evaluates to\n",
        "\n",
        "\\begin{equation}\n",
        "  P(A) = 1 - \\frac {6 \\xi(3)} {\\pi^2} \\approx 0.2692\n",
        "\\end{equation}\n",
        "\n",
        "where $\\xi(s) = \\sum_{n=1}^\\infty \\frac 1 {n^s}$, which is called the _Riemann Zeta Function_."
      ],
      "metadata": {
        "id": "pfZsANKzS3_L"
      }
    },
    {
      "cell_type": "code",
      "execution_count": 3,
      "metadata": {
        "id": "49fnHRTL-fnO",
        "colab": {
          "base_uri": "https://localhost:8080/"
        },
        "outputId": "e5ab927d-df4d-4a81-c755-9b5be774712b"
      },
      "outputs": [
        {
          "output_type": "stream",
          "name": "stdout",
          "text": [
            "numerical = 0.26893337073278945\t analytical = 0.26923703059856086\n"
          ]
        }
      ],
      "source": [
        "\"\"\"\n",
        "Manufacturing Defects\n",
        "\n",
        "This simulation computes `P(A)` above by evaluating the summation and via closed\n",
        "form using the Riemann Zeta function.\n",
        "\"\"\"\n",
        "\n",
        "using SpecialFunctions\n",
        "\n",
        "# Evidently this is enough to produce an accurate enough convergence.\n",
        "n = 2000\n",
        "\n",
        "pB(k) = 6 / (pi^2 * (k + 1)^2)\n",
        "pBGivenA(k) = 1 - 1/(k+1)\n",
        "\n",
        "numerical = sum([pB(k) * pBGivenA(k) for k in 0:n])\n",
        "analytical = 1 - 6*zeta(3)/pi^2\n",
        "\n",
        "println(\"numerical = $numerical\\t analytical = $analytical\")"
      ]
    },
    {
      "cell_type": "markdown",
      "source": [
        "## Bayes Theorem\n",
        "\n",
        "Manipulating the formula for conditional probability we can arrive at an important theorem.\n",
        "\n",
        "Notice $P(B \\mid A) = \\frac {P(A \\cap B)} {P(A)} \\implies P(A \\cap B) = P(A)P(B \\mid A)$. Applying this transformation to the standard formula:\n",
        "\n",
        "\\begin{equation}\n",
        "  P(A \\mid B)\n",
        "    = \\frac {P(A \\cap B)} {P(B)}\n",
        "    = \\frac {P(A)P(B \\mid A)} {P(B)}\n",
        "\\end{equation}\n",
        "\n",
        "This enables us a way to compute the probability of a _prior outcome_ given the observation of a _posterior condition_. In other words, we can proceed in the reverse direction of a conditional probability."
      ],
      "metadata": {
        "id": "nDlS2wF8c0Ki"
      }
    },
    {
      "cell_type": "markdown",
      "source": [
        "### Monty Hall Problem\n",
        "\n",
        "The Monty Hall problem invariably shows up during any introduction to conditional probability due to its unintuitive conclusion. In the original gameshow _Let's Make a Deal_, the host prompted the guest to choose among three doors. Behind one door was a prize, and behind the other two were goats. After the guest made their initial selection, the host would reveal one of the doors containing a goat and give the player the opportunity to switch their answer.\n",
        "\n",
        "> Note: I prefer to brute-force count this problem, but I've managed to do this with k-combinations. I'll add that solution here some other time.\n",
        "\n",
        "#### Analysis\n",
        "\n",
        "For simplicity, assume the player chooses Door 1 in the following scenarios.\n",
        "\n",
        "|Scenario|Action|Result|\n",
        "|--------|------|------|\n",
        "|CGG     |Stay  |W     |\n",
        "|GCG     |Stay  |L     |\n",
        "|GGC     |Stay  |L     |\n",
        "|CGG     |Switch|L     |\n",
        "|GCG     |Switch|W     |\n",
        "|GGC     |Switch|W     |\n",
        "\n",
        "From the table above, we can see that the heuristic to switch actually has a better probability than sticking with the original choice. This is because the rules of the game force the host to eliminate one of the bad choices, no matter what the initial selection was.\n",
        "\n",
        "Analytically, we can use conditional probability to compare the strategies. Let $A_i$ be the event that door $i$ reveals the prize and $B_i$ be the event that the host reveals door $i$.\n",
        "\n",
        "The first strategy:\n",
        "\n",
        "\\begin{equation}\n",
        "  P(A_1 \\mid B_2)\n",
        "    = \\frac {P(B_2 \\mid A_1)P(A_1)} {P(B_2)}\n",
        "    = \\frac {1/2 * 1/3} {1/2}\n",
        "    = \\frac 1 3\n",
        "\\end{equation}\n",
        "\n",
        "and the second in which the player switches to door 3 (assume without loss of generality that B2 is opened):\n",
        "\n",
        "\\begin{equation}\n",
        "  P(A_3 \\mid B_2)\n",
        "    = \\frac {P(B_2 \\mid A_3) P(A_3)} {P(B_2)}\n",
        "    = \\frac {1 * 1/3} {1/2}\n",
        "    = \\frac 2 3\n",
        "\\end{equation}\n",
        "\n",
        "Note that $P(B_2 \\mid A_3) = 1$ because the host has no choice but to reveal the door without the prize."
      ],
      "metadata": {
        "id": "hkQwoaSQh64d"
      }
    },
    {
      "cell_type": "code",
      "source": [
        "\"\"\"\n",
        "Monty Hall Simulation\n",
        "\n",
        "This Monte Carlo simulation is a straightforward random experiment modeling the\n",
        "famous Monty Hall problem. The probability of winning with a strategy of keeping\n",
        "the original choice is compared to one in which the contestant always switches.\n",
        "\"\"\"\n",
        "\n",
        "using Random\n",
        "Random.seed!(1)\n",
        "\n",
        "# TODO: Almost certain this can be done with bits + XOR\n",
        "function monty_hall(switch)\n",
        "  prize, choice = rand(1:3), rand(1:3)\n",
        "\n",
        "  if prize == choice\n",
        "    # Choose randomly between the remaining doors\n",
        "    rev = rand(setdiff(1:3, choice))\n",
        "  else\n",
        "    rev = rand(setdiff(1:3, [prize, choice]))\n",
        "  end\n",
        "\n",
        "  if switch\n",
        "    choice = setdiff(1:3, [rev, choice])[1]\n",
        "  end\n",
        "\n",
        "  return choice == prize\n",
        "end\n",
        "\n",
        "N = 10^6\n",
        "strat1 = sum([monty_hall(false) for _ in 1:N]) / N\n",
        "strat2 = sum([monty_hall(true) for _ in 1:N]) / N\n",
        "\n",
        "println(\"Don't Switch = $strat1 \\t Switch = $strat2\")"
      ],
      "metadata": {
        "colab": {
          "base_uri": "https://localhost:8080/"
        },
        "id": "8Y86lfsCtgX0",
        "outputId": "603db7d6-f46b-4ff2-e4e0-de9573d89df0"
      },
      "execution_count": 17,
      "outputs": [
        {
          "output_type": "stream",
          "name": "stdout",
          "text": [
            "Don't Switch = 0.333636 \t Switch = 0.666896\n"
          ]
        }
      ]
    }
  ]
}