{
  "nbformat": 4,
  "nbformat_minor": 0,
  "metadata": {
    "colab": {
      "provenance": [],
      "collapsed_sections": [
        "iLG-tu_vU5eq",
        "NZ9v16DHVOZr"
      ],
      "authorship_tag": "ABX9TyMcGelGVN/VzaBrK51g8hOo",
      "include_colab_link": true
    },
    "kernelspec": {
      "name": "julia",
      "display_name": "Julia"
    },
    "language_info": {
      "name": "julia"
    }
  },
  "cells": [
    {
      "cell_type": "markdown",
      "metadata": {
        "id": "view-in-github",
        "colab_type": "text"
      },
      "source": [
        "<a href=\"https://colab.research.google.com/github/BeautifulTovarisch/statistics-potpourri/blob/main/basic_plots.ipynb\" target=\"_parent\"><img src=\"https://colab.research.google.com/assets/colab-badge.svg\" alt=\"Open In Colab\"/></a>"
      ]
    },
    {
      "cell_type": "markdown",
      "source": [
        "# Basic Plots\n",
        "\n",
        "This Notebook demonstrates basic plotting with Julia using the PyPlot backend."
      ],
      "metadata": {
        "id": "tdhzJ870Ugk-"
      }
    },
    {
      "cell_type": "markdown",
      "source": [
        "## Introduction\n",
        "\n",
        "The following cells plot a simple polynomial and render a heatmap."
      ],
      "metadata": {
        "id": "iLG-tu_vU5eq"
      }
    },
    {
      "cell_type": "code",
      "source": [
        "import Pkg\n",
        "\n",
        "Pkg.add(\"Plots\")\n",
        "Pkg.add(\"PyPlot\")\n",
        "Pkg.add(\"Measures\")\n",
        "Pkg.add(\"LaTeXStrings\")"
      ],
      "metadata": {
        "id": "XMbXU7ZCTNlb"
      },
      "execution_count": null,
      "outputs": []
    },
    {
      "cell_type": "code",
      "execution_count": null,
      "metadata": {
        "id": "ufg0nbI2MjLh"
      },
      "outputs": [],
      "source": [
        "using Plots, LaTeXStrings, Measures; pyplot()\n",
        "\n",
        "f(x,y) = x^2 + y^2\n",
        "f0(x) = f(x, 0)\n",
        "f2(x) = f(x, 2)\n",
        "\n",
        "xVals, yVals = -5:0.1:5, -5:0.1:5\n",
        "plot(xVals, [f0.(xVals), f2.(xVals)],\n",
        "      c=[:blue :red], xlims=(-5,5), legend=:top,\n",
        "      ylims=(-5,25), ylabel=L\"f(x,\\cdot)\", label=[L\"f(x,0)\" L\"f(x,2)\"])\n",
        "\n",
        "# p1 = annotate!(0, -0.2, text(\"(0,0) The minimum\\n of f(x,0)\", :left, :top, 10))\n",
        "#\n",
        "# z = [f(x,y) for y in yVals, x in xVals]\n",
        "# p2 = surface(xVals, yVals, z, c=cgrad([:blue, :red]),legend=:none,\n",
        "#       ylabel=\"y\", zlabel=L\"f(x,y)\")\n",
        "#\n",
        "# M = z[1:10,1:10]\n",
        "# p3 = heatmap(M, c=cgrad([:blue, :red]), yflip=true, ylabel=\"y\",\n",
        "# xticks=([1:10;], xVals), yticks=([1:10;], yVals))\n",
        "#\n",
        "# plot(p1, p2, p3, layout=(1,3), size=(1200,400), xlabel=\"x\", margin=5mm)"
      ]
    },
    {
      "cell_type": "markdown",
      "source": [
        "## Hailstone Sequence\n",
        "\n",
        "Suppose we want to generate a sequence of integers such that $x_{n+1} = f(x_n)$, where:\n",
        "\n",
        "\\begin{align}\n",
        "f(x) =\n",
        "\\left\\{\n",
        "  \\begin{array}{cl}\n",
        "    x/2 & \\text{if } x \\mod 2 = 0 \\\\\n",
        "    3x + 1 & \\text{otherwise}\n",
        "  \\end{array}\n",
        "  \\right.\n",
        "\\end{align}\n",
        "\n",
        "This sequence is known as the _hailstone_ sequence. The _Collatz conjecture_ posits that no matter how $x_0$ is chosen, the hailstone sequence converges at 1."
      ],
      "metadata": {
        "id": "NZ9v16DHVOZr"
      }
    },
    {
      "cell_type": "code",
      "source": [
        "\"\"\"\n",
        "Hailstone Sequence Histogram\n",
        "\n",
        "The following plots the hailstone sequence given by the formula above.\n",
        "\"\"\"\n",
        "\n",
        "using Plots; pyplot()\n",
        "\n",
        "\"\"\"\n",
        "hailLength(x0) computes the number of elements in a hailstone sequence starting\n",
        "at `x0`.\n",
        "\n",
        "`x0` must be a positive Int.\n",
        "\"\"\"\n",
        "function hailLength(x0::Int)\n",
        "  len = 0\n",
        "  while x0 > 1\n",
        "    x0 = (x0 % 2 == 1) ? 3x0 + 1 : Int(x0/2)\n",
        "\n",
        "    len += 1\n",
        "  end\n",
        "\n",
        "  return len\n",
        "end\n",
        "\n",
        "lens = [hailLength(x0) for x0 in 2:10^7]\n",
        "\n",
        "histogram(lens, bins=1000, normed=:true,\n",
        "          fill=(:blue, true), la=0, legend=:none,\n",
        "          xlims=(0, 500), ylims=(0, 0.012),\n",
        "          xlabel=\"Length\", ylabel=\"Frequency\")"
      ],
      "metadata": {
        "id": "19j6p0aMZFyu"
      },
      "execution_count": null,
      "outputs": []
    },
    {
      "cell_type": "markdown",
      "source": [
        "## Animations\n",
        "\n",
        "The following cells demonstrate a simple animation of a mathematical graph. The animation draws equally spaced vertices around the unit circle and obtain a sequence of complex numbers given by\n",
        "$z_n = e^{2\\pi i \\frac{k}{n}}$\n"
      ],
      "metadata": {
        "id": "P0ZANQSPdPPP"
      }
    },
    {
      "cell_type": "code",
      "source": [
        "\"\"\"\n",
        "Animation\n",
        "\n",
        "This cell renders equally spaced vertices around the unit circle and draws edges\n",
        "between these vertices.\n",
        "\"\"\"\n",
        "\n",
        "using Plots; pyplot()\n",
        "\n",
        "\"\"\"\n",
        "graphCreator(n) constructs `n` equally spaced vertices about the unit circle and\n",
        "animates drawing edges between these vertices to form a complete graph.\n",
        "\"\"\"\n",
        "function graphCreator(n::Int)\n",
        "  vertices = 1:n\n",
        "\n",
        "  # Use the real and complex parts of these numbers as the coordinates\n",
        "  # TODO: Combine comprehensions to avoid wasted allocation\n",
        "  complexPts = [exp(2*pi*im * (k/n)) for k in vertices]\n",
        "  coords = [(real(p), imag(p)) for p in complexPts]\n",
        "\n",
        "  xPts = first.(coords)\n",
        "  yPts = last.(coords)\n",
        "\n",
        "  edges = [(v, u) for v in vertices for u in (v+1):n]\n",
        "\n",
        "  # Construct the animation and plot the vertices\n",
        "  anim = Animation()\n",
        "  scatter(xPts, yPts, c=:blue, msw=0, ratio=1,\n",
        "    xlims=(-1.5,1.5), ylims=(-1.5, 1.5), legend=:none)\n",
        "\n",
        "  # Animate drawing the edges\n",
        "  for edge in edges\n",
        "    u, v = edge[1], edge[2]\n",
        "\n",
        "    xpoints = [xPts[u], xPts[v]]\n",
        "    ypoints = [yPts[u], yPts[v]]\n",
        "\n",
        "    plot!(xpoints, ypoints, line=(:red))\n",
        "\n",
        "    frame(anim)\n",
        "  end\n",
        "\n",
        "  gif(anim, \"graph.gif\", fps=60)\n",
        "end\n",
        "\n",
        "graphCreator(10)"
      ],
      "metadata": {
        "id": "Tokfgu9Udm9i"
      },
      "execution_count": null,
      "outputs": []
    }
  ]
}